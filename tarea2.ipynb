{
 "cells": [
  {
   "attachments": {},
   "cell_type": "markdown",
   "metadata": {},
   "source": [
    "<img src=\"logo completo.png\" width=\"1200\" height=\"400\">"
   ]
  },
  {
   "attachments": {},
   "cell_type": "markdown",
   "metadata": {},
   "source": [
    "1. Escriba una función  que reciba la fecha de nacimiento de un a persona y calcule la edad de la persona"
   ]
  },
  {
   "cell_type": "code",
   "execution_count": 9,
   "metadata": {},
   "outputs": [
    {
     "data": {
      "text/plain": [
       "21"
      ]
     },
     "execution_count": 9,
     "metadata": {},
     "output_type": "execute_result"
    }
   ],
   "source": [
    "from datetime import date\n",
    "\n",
    "def calcular_edad(fecha_nacimiento):\n",
    "    hoy = date.today()\n",
    "    edad = hoy.year - fecha_nacimiento.year - ((hoy.month, hoy.day) < (fecha_nacimiento.month, fecha_nacimiento.day))\n",
    "    return edad\n",
    "\n",
    "fecha=date(2001,3,13)\n",
    "calcular_edad(fecha)"
   ]
  },
  {
   "attachments": {},
   "cell_type": "markdown",
   "metadata": {},
   "source": [
    "2. Crea una función EscribirCentrado, que reciba como parámetro un texto y lo escriba centrado en pantalla (suponiendo una anchura de 80 columnas; pista: deberás escribir 40 - longitud/2 espacios antes del texto).  \n"
   ]
  },
  {
   "cell_type": "code",
   "execution_count": 19,
   "metadata": {},
   "outputs": [
    {
     "data": {
      "text/plain": [
       "'La felicidad no es algo que simplemente se adquiere, sino que es algo que se cultiva. Requiere tiempo, dedicación y esfuerzo. A veces puede ser difícil encontrar la felicidad, pero si la buscas en las cosas pequeñas de la vida, encontrarás que está más cerca de lo que pensabas. Aprende a apreciar las cosas simples y a disfrutar de cada momento. La felicidad es un viaje, no un destino.'"
      ]
     },
     "execution_count": 19,
     "metadata": {},
     "output_type": "execute_result"
    }
   ],
   "source": [
    "def centrado(texto):\n",
    "        longitud = int(len(texto))/2\n",
    "        espacios=int(40-longitud)\n",
    "        espacio=\" \"*espacios\n",
    "        txcentrado=espacio + texto\n",
    "        return txcentrado\n",
    "\n",
    "\n",
    "tex=\"La felicidad no es algo que simplemente se adquiere, sino que es algo que se cultiva. Requiere tiempo, dedicación y esfuerzo. A veces puede ser difícil encontrar la felicidad, pero si la buscas en las cosas pequeñas de la vida, encontrarás que está más cerca de lo que pensabas. Aprende a apreciar las cosas simples y a disfrutar de cada momento. La felicidad es un viaje, no un destino.\"\n",
    "centrado(tex)"
   ]
  },
  {
   "attachments": {},
   "cell_type": "markdown",
   "metadata": {},
   "source": [
    " 3. Construya una función decorada que reciba un texto y lo escriba marcado con Markdown en itálica y resaltada (bold). Revise la lección de decoradores, no vista en clase."
   ]
  },
  {
   "cell_type": "code",
   "execution_count": 5,
   "metadata": {},
   "outputs": [
    {
     "name": "stdout",
     "output_type": "stream",
     "text": [
      "<b><i>hola buenas tardes.</i></b>\n"
     ]
    }
   ],
   "source": [
    "# decoradores\n",
    "def make_bold(fn):\n",
    "    def makebold_wrapper(tex):\n",
    "        return \"<b>\" + fn(tex) + \"</b>\"\n",
    "    return makebold_wrapper\n",
    "\n",
    "def make_italic(fn):\n",
    "    def makeitalic_wrapper(tex):\n",
    "        return \"<i>\" + fn(tex) + \"</i>\"\n",
    "    return makeitalic_wrapper\n",
    "\n",
    "@make_bold\n",
    "@make_italic\n",
    "def hello(tex):\n",
    "    return tex\n",
    "\n",
    "texto =input(\"ingresa el texto que desea decorar\")\n",
    "print(hello(texto))"
   ]
  },
  {
   "attachments": {},
   "cell_type": "markdown",
   "metadata": {},
   "source": [
    "4.  Crea un programa que pida dos número enteros al usuario y diga si alguno de ellos es múltiplo del otro. "
   ]
  },
  {
   "cell_type": "code",
   "execution_count": 8,
   "metadata": {},
   "outputs": [
    {
     "data": {
      "text/plain": [
       "'Los numeros no son multiplos. '"
      ]
     },
     "execution_count": 8,
     "metadata": {},
     "output_type": "execute_result"
    }
   ],
   "source": [
    "def multiplo():\n",
    "    primern=int(input(\"ingrese un primer numero. \"))\n",
    "    segundon=int(input(\"ingrese un segundo numero. \"))\n",
    "    mayor=0\n",
    "    menor=0\n",
    "    factor=1\n",
    "    if primern<segundon:\n",
    "        mayor=segundon\n",
    "        menor=primern\n",
    "    else:\n",
    "        mayor=primern\n",
    "        menor=segundon\n",
    "    if mayor%menor==0:\n",
    "        resul=\"Los numeros son multiplos. \"\n",
    "    else:\n",
    "        resul=\"Los numeros no son multiplos. \"\n",
    "    return resul\n",
    "multiplo()"
   ]
  },
  {
   "attachments": {},
   "cell_type": "markdown",
   "metadata": {},
   "source": [
    "5. Crear una función re reciba una lista  de 24 valores de temperatura leída  hora en un día y que calcule la temperatura media  Cree una lista con 24 valores de temperatura de un día de Bogotá y pruebe su función. Invente los datos."
   ]
  },
  {
   "cell_type": "code",
   "execution_count": 15,
   "metadata": {},
   "outputs": [
    {
     "data": {
      "text/plain": [
       "12.916666666666666"
      ]
     },
     "execution_count": 15,
     "metadata": {},
     "output_type": "execute_result"
    }
   ],
   "source": [
    "def mutem(temperatura):\n",
    "    tamaño=len(temperatura)\n",
    "    suma=0\n",
    "    for i in range(tamaño):\n",
    "        suma=suma+temperatura[i]\n",
    "    temm=suma/tamaño\n",
    "    return temm\n",
    "temperatura=[12,12,12,11,12,11,9,8,8,9,10,14,15,17,17,17,17,17,16,15,14,13,12,12]\n",
    "mutem(temperatura)"
   ]
  },
  {
   "attachments": {},
   "cell_type": "markdown",
   "metadata": {},
   "source": [
    "6. Crea una función “calcularMaxMin” que recibe una arreglo con valores numérico y devuelve el valor máximo y el mínimo. "
   ]
  },
  {
   "cell_type": "code",
   "execution_count": 5,
   "metadata": {},
   "outputs": [
    {
     "data": {
      "text/plain": [
       "('El valor minimo de lo engresado es ',\n",
       " 0.5678,\n",
       " 'El valor maximo de lo ingresado es ',\n",
       " 6.2832)"
      ]
     },
     "execution_count": 5,
     "metadata": {},
     "output_type": "execute_result"
    }
   ],
   "source": [
    "def maxmin(a):\n",
    "    min=a[0]\n",
    "    max=a[0]\n",
    "    for i in a:\n",
    "        if i<=min:\n",
    "            min=i\n",
    "        elif i>=max:\n",
    "            max=i\n",
    "    return(\"El valor minimo de lo engresado es \",min,\"El valor maximo de lo ingresado es \",max)\n",
    "\n",
    "numeros_aleatorios = [0.5678, 3.1415, 2.7182, 4.6692, 1.6180, 0.9876, 5.4321, 2.2361, 6.2832, 1.4142]\n",
    "maxmin(numeros_aleatorios)"
   ]
  },
  {
   "attachments": {},
   "cell_type": "markdown",
   "metadata": {},
   "source": [
    "7. Diseñar una función que calcule el área y el perímetro de una circunferencia. "
   ]
  },
  {
   "cell_type": "code",
   "execution_count": 6,
   "metadata": {},
   "outputs": [
    {
     "data": {
      "text/plain": [
       "('El área de la circunferencia es ',\n",
       " 530.929158456675,\n",
       " 'el perimetro de la circunferencia es ',\n",
       " 81.68140899333463)"
      ]
     },
     "execution_count": 6,
     "metadata": {},
     "output_type": "execute_result"
    }
   ],
   "source": [
    "import math\n",
    "\n",
    "def cir(r):\n",
    "    pi=math.pi\n",
    "    area=pi * (r**2)\n",
    "    perimetro=pi*2*r\n",
    "    return (\"El área de la circunferencia es \",area,\"el perimetro de la circunferencia es \", perimetro)\n",
    "\n",
    "\n",
    "cir(13)"
   ]
  },
  {
   "attachments": {},
   "cell_type": "markdown",
   "metadata": {},
   "source": [
    "8. Crear una función  llamada “Login”, que recibe un nombre de usuario y una contraseña y devuelva Verdadero si el nombre de usuario es “usuario1” y la contraseña es “asdasd”. Además recibe el número de intentos que se ha intentado hacer login y si no se ha podido hacer login incremente este valor."
   ]
  },
  {
   "cell_type": "code",
   "execution_count": 8,
   "metadata": {},
   "outputs": [
    {
     "data": {
      "text/plain": [
       "('usuario y contraseña correctos usted tomo ', 2, ' intentos.')"
      ]
     },
     "execution_count": 8,
     "metadata": {},
     "output_type": "execute_result"
    }
   ],
   "source": [
    "def Login():\n",
    "    uscor=\"usuario1\"\n",
    "    cocor=\"asdasd\"\n",
    "    intentos=0\n",
    "    usuario=\"\"\n",
    "    contraseña=\"\"\n",
    "    while contraseña!=cocor:\n",
    "        contraseña=input(\"Escriba la contraseña\")\n",
    "        intentos=intentos+1\n",
    "        while usuario!=uscor:\n",
    "            usuario=input(\"escriba el usuario: \")\n",
    "            intentos=intentos\n",
    "    return \"usuario y contraseña correctos usted tomo \",intentos, \" intentos.\"\n",
    "\n",
    "Login()"
   ]
  },
  {
   "attachments": {},
   "cell_type": "markdown",
   "metadata": {},
   "source": [
    "9. Crear una función recursiva que permita calcular el factorial de un número. Realiza un programa principal donde se lea un entero y se muestre el resultado del factorial. Revise la lección de funciones."
   ]
  },
  {
   "cell_type": "code",
   "execution_count": 9,
   "metadata": {},
   "outputs": [
    {
     "data": {
      "text/plain": [
       "120"
      ]
     },
     "execution_count": 9,
     "metadata": {},
     "output_type": "execute_result"
    }
   ],
   "source": [
    "def fac(n):\n",
    "    if n==0:\n",
    "        return 1\n",
    "    else:\n",
    "        return n*fac(n-1)\n",
    "numero=int(input(\"a continuacion ingrese un numero natural y se retornara su factorial. \"))\n",
    "fac(numero)"
   ]
  },
  {
   "attachments": {},
   "cell_type": "markdown",
   "metadata": {},
   "source": [
    "10. Escribir dos funciones que permitan calcular:\n",
    "* La cantidad de segundos en un tiempo dado en horas, minutos y segundos.\n",
    "* La cantidad de horas, minutos y segundos de un tiempo dado en segundos"
   ]
  },
  {
   "cell_type": "code",
   "execution_count": 2,
   "metadata": {},
   "outputs": [
    {
     "data": {
      "text/plain": [
       "128034"
      ]
     },
     "execution_count": 2,
     "metadata": {},
     "output_type": "execute_result"
    }
   ],
   "source": [
    "def segundos(hor,min,seg):\n",
    "    hors=hor*3600\n",
    "    mins=min*60\n",
    "    segun=hors+mins+seg\n",
    "    return segun\n",
    "segundos(35,33,54)"
   ]
  },
  {
   "cell_type": "code",
   "execution_count": 3,
   "metadata": {},
   "outputs": [
    {
     "data": {
      "text/plain": [
       "(35, 33, 54)"
      ]
     },
     "execution_count": 3,
     "metadata": {},
     "output_type": "execute_result"
    }
   ],
   "source": [
    "def horminseg(segundo):\n",
    "    horas=segundo//3600\n",
    "    min=(segundo%3600)//60\n",
    "    segundos=(segundo%3600)%60\n",
    "    return horas,min,segundos\n",
    "horminseg(128034)"
   ]
  },
  {
   "attachments": {},
   "cell_type": "markdown",
   "metadata": {},
   "source": [
    "11. Crea una función  que lea una tupla, invierta los valores de la tupla y regrese una nueva tupla invirtiendo los valores. Recuerde que las tuplas son inmutables."
   ]
  },
  {
   "cell_type": "code",
   "execution_count": 6,
   "metadata": {},
   "outputs": [
    {
     "data": {
      "text/plain": [
       "(True, 1, '2')"
      ]
     },
     "execution_count": 6,
     "metadata": {},
     "output_type": "execute_result"
    }
   ],
   "source": [
    "def inv(tupla):\n",
    "    lista=[]\n",
    "    tamaño=len(tupla)\n",
    "    for i in range(tamaño):\n",
    "        lista.append(tupla[tamaño-1-i])\n",
    "    invtupla=tuple(lista)\n",
    "    return invtupla\n",
    "a=(\"2\",1,True)\n",
    "inv(a)"
   ]
  },
  {
   "attachments": {},
   "cell_type": "markdown",
   "metadata": {},
   "source": [
    "12. Escriba una función que lea una lista y calcule la media geométrica de sus valores, usando funtools.reduce."
   ]
  },
  {
   "cell_type": "code",
   "execution_count": 7,
   "metadata": {},
   "outputs": [
    {
     "data": {
      "text/plain": [
       "4.524610662801728"
      ]
     },
     "execution_count": 7,
     "metadata": {},
     "output_type": "execute_result"
    }
   ],
   "source": [
    "import functools\n",
    "def medgeo(lista):\n",
    "    tamaño=len(lista)\n",
    "    productos=functools.reduce(lambda a, b: a*b, lista)\n",
    "    resultado=productos**(1/tamaño)\n",
    "    return resultado\n",
    "a=[1,2,3,10,11,13]\n",
    "medgeo(a)"
   ]
  }
 ],
 "metadata": {
  "kernelspec": {
   "display_name": "base",
   "language": "python",
   "name": "python3"
  },
  "language_info": {
   "codemirror_mode": {
    "name": "ipython",
    "version": 3
   },
   "file_extension": ".py",
   "mimetype": "text/x-python",
   "name": "python",
   "nbconvert_exporter": "python",
   "pygments_lexer": "ipython3",
   "version": "3.10.10"
  },
  "orig_nbformat": 4,
  "vscode": {
   "interpreter": {
    "hash": "831053351c929801847d4e8643a295d6dcb98ca47191502507b134859e8454e9"
   }
  }
 },
 "nbformat": 4,
 "nbformat_minor": 2
}
