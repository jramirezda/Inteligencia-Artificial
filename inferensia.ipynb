{
 "cells": [
  {
   "attachments": {},
   "cell_type": "markdown",
   "metadata": {},
   "source": [
    "La función $f(x) = 1/x$ no es convexa en todo su dominio. De hecho, la función es cóncava en el intervalo $(-\\infty,0)$ y convexa en el intervalo $(0,\\infty)$.\n",
    "\n",
    "Podemos verificarlo utilizando la definición formal de una función convexa. Una función es convexa si la recta que conecta cualquier par de puntos en la gráfica de la función se encuentra por encima de la gráfica entre los dos puntos. Es decir, para cualquier $x_1, x_2$ y $t\\in[0,1]$:\n",
    "\n",
    "$$f(tx_1+(1-t)x_2) \\leq tf(x_1) + (1-t)f(x_2)$$\n",
    "\n",
    "Si tomamos $x_1=-1$, $x_2=1$ y $t=1/2$, entonces:\n",
    "\n",
    "$$f\\left(\\frac{x_1+x_2}{2}\\right) = f(0) = \\text{undefined}$$\n",
    "$$\\frac{1}{2}f(x_1) + \\frac{1}{2}f(x_2) = \\frac{1}{2}\\left(\\frac{1}{-1}\\right) + \\frac{1}{2}\\left(\\frac{1}{1}\\right) = 0$$\n",
    "\n",
    "Por lo tanto, la función no cumple la condición de convexidad en el intervalo $(-\\infty,0)$. Sin embargo, si tomamos $x_1=1$, $x_2=3$ y $t=1/2$, entonces:\n",
    "\n",
    "$$f\\left(\\frac{x_1+x_2}{2}\\right) = f(2) = \\frac{1}{2}$$\n",
    "$$\\frac{1}{2}f(x_1) + \\frac{1}{2}f(x_2) = \\frac{1}{2}\\left(\\frac{1}{1}\\right) + \\frac{1}{2}\\left(\\frac{1}{3}\\right) > \\frac{1}{2}$$\n",
    "\n",
    "En este caso, la función cumple la condición de convexidad en el intervalo $(0,\\infty)$. Por lo tanto, la función $f(x) = 1/x$ es convexa en $(0,\\infty)$ pero no es convexa en $(-\\infty,0)$.\n"
   ]
  },
  {
   "attachments": {},
   "cell_type": "markdown",
   "metadata": {},
   "source": [
    "La función $f(x)=-\\log(x)$ es convexa en el intervalo $(0, \\infty)$. Para demostrarlo, podemos verificar que su segunda derivada es siempre positiva en ese intervalo. Primero, calculemos su primera y segunda derivadas:\n",
    "\n",
    "$$f(x)=-\\log(x)$$\n",
    "\n",
    "$$f'(x)=-\\frac{1}{x}$$\n",
    "\n",
    "$$f''(x)=\\frac{1}{x^2}$$\n",
    "\n",
    "La segunda derivada es siempre positiva en $(0,\\infty)$, por lo tanto la función es convexa en ese intervalo."
   ]
  },
  {
   "attachments": {},
   "cell_type": "markdown",
   "metadata": {},
   "source": [
    "La función $log(1/x)$ es convexa en el dominio $(0, +inf).$\n",
    "\n",
    "Podemos demostrarlo mediante el cálculo de la segunda derivada. Primero, calculemos la primera derivada:\n",
    "\n",
    "$f(x) = log(1/x)$\n",
    "\n",
    "$f'(x) = -1 / (x * ln(10))$\n",
    "\n",
    "Ahora, calculemos la segunda derivada:\n",
    "\n",
    "$f''(x) = 1 / (x^2 * ln(10))$\n",
    "\n",
    "Como la segunda derivada es siempre positiva en el dominio $(0, +inf)$, la función es convexa en ese intervalo."
   ]
  },
  {
   "attachments": {},
   "cell_type": "markdown",
   "metadata": {},
   "source": [
    "La función $f(x) = x^{1/3}$ es convexa en el intervalo $[0, \\infty)$.\n",
    "\n",
    "Para demostrarlo, primero se toman dos puntos en el intervalo, $x_1$ y $x_2$, con $x_1 \\neq x_2$. Luego, se define un punto intermedio como la media aritmética de los dos puntos:\n",
    "\n",
    "$$x_3 = \\frac{x_1 + x_2}{2}$$\n",
    "\n",
    "Se puede ver que:\n",
    "\n",
    "$\\begin{aligned}\n",
    "f(x_3) &= ((x_1 + x_2)/2)^{1/3} \\\\\n",
    "&= \\frac{1}{2^{1/3}} (x_1^{1/3} + x_2^{1/3}) \\\\\n",
    "\\end{aligned}$\n",
    "\n",
    "A continuación, se puede calcular la definición de la función convexa y ver si se cumple:\n",
    "$$f(\\lambda x_1 + (1-\\lambda) x_2) \\leq \\lambda f(x_1) + (1-\\lambda) f(x_2)$$\n",
    "Para $\\lambda \\in [0,1]$ y $x_1, x_2 \\in [0, \\infty)$\n",
    "$$\\begin{aligned}\n",
    "f(\\lambda x_1 + (1-\\lambda) x_2) &= (\\lambda x_1 + (1-\\lambda) x_2)^{1/3} \\\\\n",
    "&\\leq \\lambda x_1^{1/3} + (1-\\lambda) x_2^{1/3} \\\\\n",
    "&= \\lambda f(x_1) + (1-\\lambda) f(x_2)\n",
    "\\end{aligned}$$\n",
    "Por lo tanto, se puede concluir que la función $f(x) = x^{1/3}$ es convexa en el intervalo $[0, \\infty)$."
   ]
  }
 ],
 "metadata": {
  "kernelspec": {
   "display_name": "Python 3",
   "language": "python",
   "name": "python3"
  },
  "language_info": {
   "name": "python",
   "version": "3.10.10"
  },
  "orig_nbformat": 4,
  "vscode": {
   "interpreter": {
    "hash": "afb734500600fd355917ca529030176ea0ca205570884b88f2f6f7d791fd3fbe"
   }
  }
 },
 "nbformat": 4,
 "nbformat_minor": 2
}
